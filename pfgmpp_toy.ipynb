{
 "cells": [
  {
   "cell_type": "code",
   "execution_count": 21,
   "id": "26b251a7",
   "metadata": {},
   "outputs": [],
   "source": [
    "import torch\n",
    "import numpy as np\n",
    "import matplotlib.pyplot as plt\n",
    "import torch.utils\n",
    "import torch.nn as nn\n",
    "import torch.nn.functional as F\n",
    "from tqdm import tqdm\n",
    "\n",
    "import os\n",
    "os.environ[\"CUDA_DEVICE_ORDER\"]=\"PCI_BUS_ID\"   # see issue #152\n",
    "os.environ[\"CUDA_VISIBLE_DEVICES\"]=\"4\""
   ]
  },
  {
   "cell_type": "code",
   "execution_count": 22,
   "id": "5427753b",
   "metadata": {},
   "outputs": [],
   "source": [
    "class MMD_loss(nn.Module):\n",
    "    def __init__(self, kernel_mul = 2.0, kernel_num = 5):\n",
    "        super(MMD_loss, self).__init__()\n",
    "        self.kernel_num = kernel_num\n",
    "        self.kernel_mul = kernel_mul\n",
    "        self.fix_sigma = None\n",
    "        \n",
    "    def guassian_kernel(self, source, target, kernel_mul=2.0, kernel_num=5, fix_sigma=None):\n",
    "        n_samples = int(source.size()[0])+int(target.size()[0])\n",
    "        total = torch.cat([source, target], dim=0)\n",
    "\n",
    "        total0 = total.unsqueeze(0).expand(int(total.size(0)), int(total.size(0)), int(total.size(1)))\n",
    "        total1 = total.unsqueeze(1).expand(int(total.size(0)), int(total.size(0)), int(total.size(1)))\n",
    "        L2_distance = ((total0-total1)**2).sum(2) \n",
    "        if fix_sigma:\n",
    "            bandwidth = fix_sigma\n",
    "        else:\n",
    "            bandwidth = torch.sum(L2_distance.data) / (n_samples**2-n_samples)\n",
    "        bandwidth /= kernel_mul ** (kernel_num // 2)\n",
    "        bandwidth_list = [bandwidth * (kernel_mul**i) for i in range(kernel_num)]\n",
    "        kernel_val = [torch.exp(-L2_distance / bandwidth_temp) for bandwidth_temp in bandwidth_list]\n",
    "        return sum(kernel_val)\n",
    "\n",
    "    def forward(self, source, target):\n",
    "        batch_size = int(source.size()[0])\n",
    "        kernels = self.guassian_kernel(source, target, kernel_mul=self.kernel_mul, kernel_num=self.kernel_num, fix_sigma=self.fix_sigma)\n",
    "        XX = kernels[:batch_size, :batch_size]\n",
    "        YY = kernels[batch_size:, batch_size:]\n",
    "        XY = kernels[:batch_size, batch_size:]\n",
    "        YX = kernels[batch_size:, :batch_size]\n",
    "        loss = torch.mean(XX + YY - XY -YX)\n",
    "        return loss"
   ]
  },
  {
   "cell_type": "markdown",
   "id": "9f73bd60",
   "metadata": {},
   "source": [
    "## Create the two Gaussians dataset\n",
    "\n",
    "$p_{data} = 0.5 \\mathcal{N}(\\mu_1, \\sigma I)+0.5 \\mathcal{N}(-\\mu_1, \\sigma I)$"
   ]
  },
  {
   "cell_type": "code",
   "execution_count": 39,
   "id": "6ef51557",
   "metadata": {},
   "outputs": [
    {
     "data": {
      "image/png": "[encoded data removed]",
      "text/plain": [
       "<Figure size 432x288 with 1 Axes>"
      ]
     },
     "metadata": {
      "needs_background": "light"
     },
     "output_type": "display_data"
    },
    {
     "data": {
      "text/plain": [
       "<Figure size 432x288 with 0 Axes>"
      ]
     },
     "metadata": {},
     "output_type": "display_data"
    }
   ],
   "source": [
    "means = torch.tensor([[1, 1], [-1, -1], [1, -1], [-1, 1], [0,0]])\n",
    "std = 0.2\n",
    "size = 1000\n",
    "mean_scale = 1\n",
    "means *= mean_scale\n",
    "\n",
    "\n",
    "data_dim = 1000\n",
    "\n",
    "\n",
    "#torch.manual_seed(123)\n",
    "X_0 = 1 * mean_scale + torch.randn((size, 10)) * std\n",
    "X_1 = -1 * mean_scale + torch.randn((size, 10)) * std\n",
    "\n",
    "# embed 10-dim manifold to {data_dim}-dim space\n",
    "W = torch.randn((10, data_dim))\n",
    "                \n",
    "X_0 = torch.matmul(X_0, W)\n",
    "X_1 = torch.matmul(X_1, W)\n",
    "X_0 += torch.randn_like(X_0) * 0.01\n",
    "X_1 += torch.randn_like(X_1) * 0.01\n",
    "\n",
    "X_0 = torch.clip(X_0, -100, 100)\n",
    "X_1 = torch.clip(X_1, -100, 100)\n",
    "\n",
    "X = torch.cat([X_0, X_1], dim=0)\n",
    "\n",
    "# visualize the fisrt two dimensions\n",
    "plt.scatter(X[:, 0], X[:, 1], label='True data')\n",
    "plt.show()\n",
    "plt.clf()"
   ]
  },
  {
   "cell_type": "markdown",
   "id": "c50cdfca",
   "metadata": {},
   "source": [
    "## Construct data loader"
   ]
  },
  {
   "cell_type": "code",
   "execution_count": 40,
   "id": "51030eb1",
   "metadata": {},
   "outputs": [],
   "source": [
    "class Gaussain_data(torch.utils.data.Dataset):\n",
    "    def __init__(self, X, Y):\n",
    "        \n",
    "        self.X = X\n",
    "        self.Y = Y\n",
    "\n",
    "    def __len__(self):\n",
    "        return len(self.X)\n",
    "\n",
    "    def __getitem__(self, idx):\n",
    "\n",
    "        return self.X[idx], self.Y[idx]\n",
    "    \n",
    "train_dataset = Gaussain_data(X=X, Y=Y)\n",
    "train_loader = torch.utils.data.DataLoader(dataset=train_dataset, batch_size=128, shuffle=True)"
   ]
  },
  {
   "cell_type": "markdown",
   "id": "638a6e58",
   "metadata": {},
   "source": [
    "## Construct neural network"
   ]
  },
  {
   "cell_type": "code",
   "execution_count": 41,
   "id": "75b56558",
   "metadata": {},
   "outputs": [],
   "source": [
    "\n",
    "\n",
    "def weight_init(shape, mode, fan_in, fan_out):\n",
    "    if mode == 'xavier_uniform': return np.sqrt(6 / (fan_in + fan_out)) * (torch.rand(*shape) * 2 - 1)\n",
    "    if mode == 'xavier_normal':  return np.sqrt(2 / (fan_in + fan_out)) * torch.randn(*shape)\n",
    "    if mode == 'kaiming_uniform': return np.sqrt(3 / fan_in) * (torch.rand(*shape) * 2 - 1)\n",
    "    if mode == 'kaiming_normal':  return np.sqrt(1 / fan_in) * torch.randn(*shape)\n",
    "    raise ValueError(f'Invalid init mode \"{mode}\"')\n",
    "\n",
    "class Linear(torch.nn.Module):\n",
    "    def __init__(self, in_features, out_features, bias=True, init_mode='xavier_uniform', init_weight=1, init_bias=0):\n",
    "        super().__init__()\n",
    "        self.in_features = in_features\n",
    "        self.out_features = out_features\n",
    "        init_kwargs = dict(mode=init_mode, fan_in=in_features, fan_out=out_features)\n",
    "        self.weight = torch.nn.Parameter(weight_init([out_features, in_features], **init_kwargs) * init_weight)\n",
    "        self.bias = torch.nn.Parameter(weight_init([out_features], **init_kwargs) * init_bias) if bias else None\n",
    "\n",
    "    def forward(self, x):\n",
    "        #self.weight.data = self.quan_dequan(self.weight.data)\n",
    "        x = x @ self.weight.to(x.dtype).t()\n",
    "        if self.bias is not None:\n",
    "            x = x.add_(self.bias.to(x.dtype))\n",
    "        return x\n",
    "\n",
    "class PositionalEmbedding(torch.nn.Module):\n",
    "    def __init__(self, num_channels, max_positions=10000, endpoint=False):\n",
    "        super().__init__()\n",
    "        self.num_channels = num_channels\n",
    "        self.max_positions = max_positions\n",
    "        self.endpoint = endpoint\n",
    "\n",
    "    def forward(self, x):\n",
    "        freqs = torch.arange(start=0, end=self.num_channels//2, dtype=torch.float32, device=x.device)\n",
    "        freqs = freqs / (self.num_channels // 2 - (1 if self.endpoint else 0))\n",
    "        freqs = (1 / self.max_positions) ** freqs\n",
    "        x = x.ger(freqs.to(x.dtype))\n",
    "        x = torch.cat([x.cos(), x.sin()], dim=1)\n",
    "        return x\n",
    "\n",
    "class mlp(nn.Module):\n",
    "    \"\"\"\n",
    "    the common architecture for the score model\n",
    "    \"\"\"\n",
    "    def __init__(self, dim=2, latent_dim=32, std_data=0.5):\n",
    "        super(mlp, self).__init__()\n",
    "\n",
    "        self.std_data = std_data\n",
    "        \n",
    "        self.latent_dim = latent_dim\n",
    "\n",
    "        self.fc1 = nn.Linear(dim, latent_dim)\n",
    "        \n",
    "        self.emb_layer = PositionalEmbedding(num_channels=latent_dim)\n",
    "        self.fc_emb = nn.Linear(latent_dim, latent_dim)\n",
    "        \n",
    "        self.normalizer_skip = nn.LayerNorm(latent_dim)\n",
    "        self.normalizer1 = nn.LayerNorm(latent_dim)\n",
    "        \n",
    "        self.fc_skip = nn.Linear(dim, latent_dim  )\n",
    "        self.fc1_skip = nn.Linear(latent_dim, latent_dim )\n",
    "        \n",
    "        \n",
    "        self.fc2 = nn.Linear(latent_dim, latent_dim )\n",
    "        self.fc3 = nn.Linear(latent_dim , latent_dim )\n",
    "        self.fc4 = nn.Linear(latent_dim, dim)\n",
    "        \n",
    "        #sself.fc5 = nn.Linear(latent_dim, dim)\n",
    "    def forward(self, x, t):\n",
    "        c_out = t * std_data/(std_data ** 2 + t ** 2).sqrt()\n",
    "        c_skip = std_data ** 2/(std_data ** 2 + t ** 2)\n",
    "        \n",
    "        t = t.flatten().log() / 4.\n",
    "        \n",
    "        x_1 = self.fc1(x) + (self.emb_layer(t))\n",
    "        \n",
    "        x_2 = F.relu(x_1)   \n",
    "        x_3 = F.relu(self.fc2(x_2)) + self.fc1_skip(x_1) # latent_dim -> latent_dim/2\n",
    "        x_4 = F.relu(self.fc3(x_3)) + self.fc_skip(x)   \n",
    "        x_4 = self.fc4(x_4)                             # latent_dim/2 -> latent_dim\n",
    "        #x_4 = self.fc3_old(x_3)\n",
    "        return c_out * x_4 + c_skip * x\n"
   ]
  },
  {
   "cell_type": "markdown",
   "id": "986f4960",
   "metadata": {},
   "source": [
    "## Training"
   ]
  },
  {
   "cell_type": "code",
   "execution_count": 46,
   "id": "4d426932",
   "metadata": {},
   "outputs": [
    {
     "name": "stderr",
     "output_type": "stream",
     "text": [
      "  1%|█▉                                                                                                                                                                                               | 2/200 [00:00<00:16, 11.96it/s]"
     ]
    },
    {
     "name": "stdout",
     "output_type": "stream",
     "text": [
      " epoch 0, avg loss:36.6069, \n",
      " epoch 1, avg loss:31.0051, \n",
      " epoch 2, avg loss:24.3430, \n"
     ]
    },
    {
     "name": "stderr",
     "output_type": "stream",
     "text": [
      "  3%|█████▊                                                                                                                                                                                           | 6/200 [00:00<00:15, 12.47it/s]"
     ]
    },
    {
     "name": "stdout",
     "output_type": "stream",
     "text": [
      " epoch 3, avg loss:21.2340, \n",
      " epoch 4, avg loss:21.0917, \n",
      " epoch 5, avg loss:20.1190, \n"
     ]
    },
    {
     "name": "stderr",
     "output_type": "stream",
     "text": [
      "\r",
      "  4%|███████▋                                                                                                                                                                                         | 8/200 [00:00<00:14, 12.84it/s]"
     ]
    },
    {
     "name": "stdout",
     "output_type": "stream",
     "text": [
      " epoch 6, avg loss:20.6188, \n",
      " epoch 7, avg loss:20.1549, \n",
      " epoch 8, avg loss:20.1100, \n"
     ]
    },
    {
     "name": "stderr",
     "output_type": "stream",
     "text": [
      "  6%|███████████▌                                                                                                                                                                                    | 12/200 [00:00<00:14, 12.93it/s]"
     ]
    },
    {
     "name": "stdout",
     "output_type": "stream",
     "text": [
      " epoch 9, avg loss:20.1979, \n",
      " epoch 10, avg loss:19.5348, \n",
      " epoch 11, avg loss:19.1462, \n"
     ]
    },
    {
     "name": "stderr",
     "output_type": "stream",
     "text": [
      "\r",
      "  7%|█████████████▍                                                                                                                                                                                  | 14/200 [00:01<00:14, 12.71it/s]"
     ]
    },
    {
     "name": "stdout",
     "output_type": "stream",
     "text": [
      " epoch 12, avg loss:19.0206, \n",
      " epoch 13, avg loss:19.2525, \n",
      " epoch 14, avg loss:18.1478, \n"
     ]
    },
    {
     "name": "stderr",
     "output_type": "stream",
     "text": [
      "  9%|█████████████████▎                                                                                                                                                                              | 18/200 [00:01<00:13, 13.19it/s]"
     ]
    },
    {
     "name": "stdout",
     "output_type": "stream",
     "text": [
      " epoch 15, avg loss:18.9174, \n",
      " epoch 16, avg loss:19.2450, \n",
      " epoch 17, avg loss:18.2426, \n"
     ]
    },
    {
     "name": "stderr",
     "output_type": "stream",
     "text": [
      "\r",
      " 10%|███████████████████▏                                                                                                                                                                            | 20/200 [00:01<00:13, 13.28it/s]"
     ]
    },
    {
     "name": "stdout",
     "output_type": "stream",
     "text": [
      " epoch 18, avg loss:17.7557, \n",
      " epoch 19, avg loss:16.8574, \n",
      " epoch 20, avg loss:18.1765, \n"
     ]
    },
    {
     "name": "stderr",
     "output_type": "stream",
     "text": [
      " 12%|███████████████████████                                                                                                                                                                         | 24/200 [00:01<00:12, 13.61it/s]"
     ]
    },
    {
     "name": "stdout",
     "output_type": "stream",
     "text": [
      " epoch 21, avg loss:20.2128, \n",
      " epoch 22, avg loss:16.5185, \n",
      " epoch 23, avg loss:16.2178, \n"
     ]
    },
    {
     "name": "stderr",
     "output_type": "stream",
     "text": [
      "\r",
      " 13%|████████████████████████▉                                                                                                                                                                       | 26/200 [00:01<00:12, 13.70it/s]"
     ]
    },
    {
     "name": "stdout",
     "output_type": "stream",
     "text": [
      " epoch 24, avg loss:15.7638, \n",
      " epoch 25, avg loss:15.4334, \n",
      " epoch 26, avg loss:16.7170, \n"
     ]
    },
    {
     "name": "stderr",
     "output_type": "stream",
     "text": [
      " 15%|████████████████████████████▊                                                                                                                                                                   | 30/200 [00:02<00:12, 13.76it/s]"
     ]
    },
    {
     "name": "stdout",
     "output_type": "stream",
     "text": [
      " epoch 27, avg loss:16.9666, \n",
      " epoch 28, avg loss:16.3576, \n",
      " epoch 29, avg loss:17.1013, \n"
     ]
    },
    {
     "name": "stderr",
     "output_type": "stream",
     "text": [
      "\r",
      " 16%|██████████████████████████████▋                                                                                                                                                                 | 32/200 [00:02<00:12, 13.71it/s]"
     ]
    },
    {
     "name": "stdout",
     "output_type": "stream",
     "text": [
      " epoch 30, avg loss:14.3430, \n",
      " epoch 31, avg loss:12.9214, \n",
      " epoch 32, avg loss:12.5924, \n"
     ]
    },
    {
     "name": "stderr",
     "output_type": "stream",
     "text": [
      " 18%|██████████████████████████████████▌                                                                                                                                                             | 36/200 [00:02<00:11, 13.90it/s]"
     ]
    },
    {
     "name": "stdout",
     "output_type": "stream",
     "text": [
      " epoch 33, avg loss:12.3282, \n",
      " epoch 34, avg loss:12.6093, \n",
      " epoch 35, avg loss:15.2765, \n"
     ]
    },
    {
     "name": "stderr",
     "output_type": "stream",
     "text": [
      "\r",
      " 19%|████████████████████████████████████▍                                                                                                                                                           | 38/200 [00:02<00:11, 14.01it/s]"
     ]
    },
    {
     "name": "stdout",
     "output_type": "stream",
     "text": [
      " epoch 36, avg loss:11.6785, \n",
      " epoch 37, avg loss:11.0161, \n",
      " epoch 38, avg loss:11.7066, \n"
     ]
    },
    {
     "name": "stderr",
     "output_type": "stream",
     "text": [
      " 21%|████████████████████████████████████████▎                                                                                                                                                       | 42/200 [00:03<00:11, 14.06it/s]"
     ]
    },
    {
     "name": "stdout",
     "output_type": "stream",
     "text": [
      " epoch 39, avg loss:15.6462, \n",
      " epoch 40, avg loss:14.8114, \n",
      " epoch 41, avg loss:12.3047, \n"
     ]
    },
    {
     "name": "stderr",
     "output_type": "stream",
     "text": [
      "\r",
      " 22%|██████████████████████████████████████████▏                                                                                                                                                     | 44/200 [00:03<00:11, 13.40it/s]"
     ]
    },
    {
     "name": "stdout",
     "output_type": "stream",
     "text": [
      " epoch 42, avg loss:11.1432, \n",
      " epoch 43, avg loss:10.8160, \n",
      " epoch 44, avg loss:10.1215, \n"
     ]
    },
    {
     "name": "stderr",
     "output_type": "stream",
     "text": [
      " 24%|██████████████████████████████████████████████                                                                                                                                                  | 48/200 [00:03<00:12, 12.65it/s]"
     ]
    },
    {
     "name": "stdout",
     "output_type": "stream",
     "text": [
      " epoch 45, avg loss:10.9285, \n",
      " epoch 46, avg loss:10.4434, \n",
      " epoch 47, avg loss:10.4883, \n"
     ]
    },
    {
     "name": "stderr",
     "output_type": "stream",
     "text": [
      "\r",
      " 25%|████████████████████████████████████████████████                                                                                                                                                | 50/200 [00:03<00:11, 13.09it/s]"
     ]
    },
    {
     "name": "stdout",
     "output_type": "stream",
     "text": [
      " epoch 48, avg loss:10.1055, \n",
      " epoch 49, avg loss:10.0823, \n",
      " epoch 50, avg loss:10.2469, \n"
     ]
    },
    {
     "name": "stderr",
     "output_type": "stream",
     "text": [
      " 27%|███████████████████████████████████████████████████▊                                                                                                                                            | 54/200 [00:04<00:10, 13.57it/s]"
     ]
    },
    {
     "name": "stdout",
     "output_type": "stream",
     "text": [
      " epoch 51, avg loss:10.6514, \n",
      " epoch 52, avg loss:11.4027, \n",
      " epoch 53, avg loss:11.0790, \n"
     ]
    },
    {
     "name": "stderr",
     "output_type": "stream",
     "text": [
      "\r",
      " 28%|█████████████████████████████████████████████████████▊                                                                                                                                          | 56/200 [00:04<00:10, 13.73it/s]"
     ]
    },
    {
     "name": "stdout",
     "output_type": "stream",
     "text": [
      " epoch 54, avg loss:11.2223, \n",
      " epoch 55, avg loss:10.3185, \n",
      " epoch 56, avg loss:10.5214, \n"
     ]
    },
    {
     "name": "stderr",
     "output_type": "stream",
     "text": [
      " 30%|█████████████████████████████████████████████████████████▌                                                                                                                                      | 60/200 [00:04<00:10, 13.78it/s]"
     ]
    },
    {
     "name": "stdout",
     "output_type": "stream",
     "text": [
      " epoch 57, avg loss:9.7696, \n",
      " epoch 58, avg loss:9.6210, \n",
      " epoch 59, avg loss:9.5846, \n"
     ]
    },
    {
     "name": "stderr",
     "output_type": "stream",
     "text": [
      "\r",
      " 31%|███████████████████████████████████████████████████████████▌                                                                                                                                    | 62/200 [00:04<00:10, 13.66it/s]"
     ]
    },
    {
     "name": "stdout",
     "output_type": "stream",
     "text": [
      " epoch 60, avg loss:9.8431, \n",
      " epoch 61, avg loss:9.8571, \n",
      " epoch 62, avg loss:10.6502, \n"
     ]
    },
    {
     "name": "stderr",
     "output_type": "stream",
     "text": [
      " 33%|███████████████████████████████████████████████████████████████▎                                                                                                                                | 66/200 [00:04<00:09, 13.65it/s]"
     ]
    },
    {
     "name": "stdout",
     "output_type": "stream",
     "text": [
      " epoch 63, avg loss:10.5921, \n",
      " epoch 64, avg loss:13.6727, \n",
      " epoch 65, avg loss:10.9595, \n"
     ]
    },
    {
     "name": "stderr",
     "output_type": "stream",
     "text": [
      "\r",
      " 34%|█████████████████████████████████████████████████████████████████▎                                                                                                                              | 68/200 [00:05<00:09, 13.61it/s]"
     ]
    },
    {
     "name": "stdout",
     "output_type": "stream",
     "text": [
      " epoch 66, avg loss:9.8494, \n",
      " epoch 67, avg loss:9.6927, \n",
      " epoch 68, avg loss:9.4740, \n"
     ]
    },
    {
     "name": "stderr",
     "output_type": "stream",
     "text": [
      " 36%|█████████████████████████████████████████████████████████████████████                                                                                                                           | 72/200 [00:05<00:09, 13.69it/s]"
     ]
    },
    {
     "name": "stdout",
     "output_type": "stream",
     "text": [
      " epoch 69, avg loss:9.9736, \n",
      " epoch 70, avg loss:10.9324, \n",
      " epoch 71, avg loss:10.7570, \n"
     ]
    },
    {
     "name": "stderr",
     "output_type": "stream",
     "text": [
      "\r",
      " 37%|███████████████████████████████████████████████████████████████████████                                                                                                                         | 74/200 [00:05<00:09, 13.63it/s]"
     ]
    },
    {
     "name": "stdout",
     "output_type": "stream",
     "text": [
      " epoch 72, avg loss:10.1253, \n",
      " epoch 73, avg loss:9.5083, \n",
      " epoch 74, avg loss:9.5409, \n"
     ]
    },
    {
     "name": "stderr",
     "output_type": "stream",
     "text": [
      " 39%|██████████████████████████████████████████████████████████████████████████▉                                                                                                                     | 78/200 [00:05<00:08, 13.96it/s]"
     ]
    },
    {
     "name": "stdout",
     "output_type": "stream",
     "text": [
      " epoch 75, avg loss:9.3182, \n",
      " epoch 76, avg loss:9.3263, \n",
      " epoch 77, avg loss:9.4197, \n"
     ]
    },
    {
     "name": "stderr",
     "output_type": "stream",
     "text": [
      "\r",
      " 40%|████████████████████████████████████████████████████████████████████████████▊                                                                                                                   | 80/200 [00:05<00:08, 13.90it/s]"
     ]
    },
    {
     "name": "stdout",
     "output_type": "stream",
     "text": [
      " epoch 78, avg loss:9.3231, \n",
      " epoch 79, avg loss:10.4849, \n",
      " epoch 80, avg loss:10.3559, \n"
     ]
    },
    {
     "name": "stderr",
     "output_type": "stream",
     "text": [
      " 42%|████████████████████████████████████████████████████████████████████████████████▋                                                                                                               | 84/200 [00:06<00:08, 14.24it/s]"
     ]
    },
    {
     "name": "stdout",
     "output_type": "stream",
     "text": [
      " epoch 81, avg loss:10.1668, \n",
      " epoch 82, avg loss:9.4279, \n",
      " epoch 83, avg loss:10.1740, \n"
     ]
    },
    {
     "name": "stderr",
     "output_type": "stream",
     "text": [
      "\r",
      " 43%|██████████████████████████████████████████████████████████████████████████████████▌                                                                                                             | 86/200 [00:06<00:08, 14.22it/s]"
     ]
    },
    {
     "name": "stdout",
     "output_type": "stream",
     "text": [
      " epoch 84, avg loss:9.8528, \n",
      " epoch 85, avg loss:9.1653, \n",
      " epoch 86, avg loss:8.9770, \n"
     ]
    },
    {
     "name": "stderr",
     "output_type": "stream",
     "text": [
      " 45%|██████████████████████████████████████████████████████████████████████████████████████▍                                                                                                         | 90/200 [00:06<00:07, 14.22it/s]"
     ]
    },
    {
     "name": "stdout",
     "output_type": "stream",
     "text": [
      " epoch 87, avg loss:9.8126, \n",
      " epoch 88, avg loss:9.3203, \n",
      " epoch 89, avg loss:9.1576, \n"
     ]
    },
    {
     "name": "stderr",
     "output_type": "stream",
     "text": [
      "\r",
      " 46%|████████████████████████████████████████████████████████████████████████████████████████▎                                                                                                       | 92/200 [00:06<00:07, 14.05it/s]"
     ]
    },
    {
     "name": "stdout",
     "output_type": "stream",
     "text": [
      " epoch 90, avg loss:9.5361, \n",
      " epoch 91, avg loss:10.0939, \n",
      " epoch 92, avg loss:9.2526, \n"
     ]
    },
    {
     "name": "stderr",
     "output_type": "stream",
     "text": [
      " 48%|████████████████████████████████████████████████████████████████████████████████████████████▏                                                                                                   | 96/200 [00:07<00:07, 13.95it/s]"
     ]
    },
    {
     "name": "stdout",
     "output_type": "stream",
     "text": [
      " epoch 93, avg loss:9.9739, \n",
      " epoch 94, avg loss:9.3838, \n",
      " epoch 95, avg loss:9.1090, \n"
     ]
    },
    {
     "name": "stderr",
     "output_type": "stream",
     "text": [
      "\r",
      " 49%|██████████████████████████████████████████████████████████████████████████████████████████████                                                                                                  | 98/200 [00:07<00:07, 13.65it/s]"
     ]
    },
    {
     "name": "stdout",
     "output_type": "stream",
     "text": [
      " epoch 96, avg loss:8.8291, \n",
      " epoch 97, avg loss:8.9971, \n",
      " epoch 98, avg loss:8.9721, \n"
     ]
    },
    {
     "name": "stderr",
     "output_type": "stream",
     "text": [
      " 51%|█████████████████████████████████████████████████████████████████████████████████████████████████▍                                                                                             | 102/200 [00:07<00:07, 13.42it/s]"
     ]
    },
    {
     "name": "stdout",
     "output_type": "stream",
     "text": [
      " epoch 99, avg loss:9.0399, \n",
      " epoch 100, avg loss:9.4500, \n",
      " epoch 101, avg loss:10.5469, \n"
     ]
    },
    {
     "name": "stderr",
     "output_type": "stream",
     "text": [
      "\r",
      " 52%|███████████████████████████████████████████████████████████████████████████████████████████████████▎                                                                                           | 104/200 [00:07<00:07, 13.24it/s]"
     ]
    },
    {
     "name": "stdout",
     "output_type": "stream",
     "text": [
      " epoch 102, avg loss:9.3499, \n",
      " epoch 103, avg loss:9.3905, \n",
      " epoch 104, avg loss:9.8937, \n"
     ]
    },
    {
     "name": "stderr",
     "output_type": "stream",
     "text": [
      " 54%|███████████████████████████████████████████████████████████████████████████████████████████████████████▏                                                                                       | 108/200 [00:07<00:06, 13.42it/s]"
     ]
    },
    {
     "name": "stdout",
     "output_type": "stream",
     "text": [
      " epoch 105, avg loss:9.3763, \n",
      " epoch 106, avg loss:9.2831, \n",
      " epoch 107, avg loss:8.7809, \n"
     ]
    },
    {
     "name": "stderr",
     "output_type": "stream",
     "text": [
      "\r",
      " 55%|█████████████████████████████████████████████████████████████████████████████████████████████████████████                                                                                      | 110/200 [00:08<00:06, 13.36it/s]"
     ]
    },
    {
     "name": "stdout",
     "output_type": "stream",
     "text": [
      " epoch 108, avg loss:8.8939, \n",
      " epoch 109, avg loss:9.4812, \n",
      " epoch 110, avg loss:9.6161, \n"
     ]
    },
    {
     "name": "stderr",
     "output_type": "stream",
     "text": [
      " 57%|████████████████████████████████████████████████████████████████████████████████████████████████████████████▊                                                                                  | 114/200 [00:08<00:06, 13.30it/s]"
     ]
    },
    {
     "name": "stdout",
     "output_type": "stream",
     "text": [
      " epoch 111, avg loss:10.4176, \n",
      " epoch 112, avg loss:10.8159, \n",
      " epoch 113, avg loss:10.0753, \n"
     ]
    },
    {
     "name": "stderr",
     "output_type": "stream",
     "text": [
      "\r",
      " 58%|██████████████████████████████████████████████████████████████████████████████████████████████████████████████▊                                                                                | 116/200 [00:08<00:06, 13.26it/s]"
     ]
    },
    {
     "name": "stdout",
     "output_type": "stream",
     "text": [
      " epoch 114, avg loss:9.3947, \n",
      " epoch 115, avg loss:9.2482, \n",
      " epoch 116, avg loss:9.4699, \n"
     ]
    },
    {
     "name": "stderr",
     "output_type": "stream",
     "text": [
      " 60%|██████████████████████████████████████████████████████████████████████████████████████████████████████████████████▌                                                                            | 120/200 [00:08<00:05, 13.36it/s]"
     ]
    },
    {
     "name": "stdout",
     "output_type": "stream",
     "text": [
      " epoch 117, avg loss:9.1762, \n",
      " epoch 118, avg loss:9.1504, \n",
      " epoch 119, avg loss:8.7419, \n"
     ]
    },
    {
     "name": "stderr",
     "output_type": "stream",
     "text": [
      "\r",
      " 61%|████████████████████████████████████████████████████████████████████████████████████████████████████████████████████▌                                                                          | 122/200 [00:09<00:05, 13.27it/s]"
     ]
    },
    {
     "name": "stdout",
     "output_type": "stream",
     "text": [
      " epoch 120, avg loss:9.3860, \n",
      " epoch 121, avg loss:8.8272, \n",
      " epoch 122, avg loss:9.0798, \n"
     ]
    },
    {
     "name": "stderr",
     "output_type": "stream",
     "text": [
      " 63%|████████████████████████████████████████████████████████████████████████████████████████████████████████████████████████▎                                                                      | 126/200 [00:09<00:05, 13.43it/s]"
     ]
    },
    {
     "name": "stdout",
     "output_type": "stream",
     "text": [
      " epoch 123, avg loss:9.4810, \n",
      " epoch 124, avg loss:9.4897, \n",
      " epoch 125, avg loss:9.0970, \n"
     ]
    },
    {
     "name": "stderr",
     "output_type": "stream",
     "text": [
      "\r",
      " 64%|██████████████████████████████████████████████████████████████████████████████████████████████████████████████████████████▏                                                                    | 128/200 [00:09<00:05, 13.44it/s]"
     ]
    },
    {
     "name": "stdout",
     "output_type": "stream",
     "text": [
      " epoch 126, avg loss:8.8385, \n",
      " epoch 127, avg loss:9.2969, \n",
      " epoch 128, avg loss:9.2818, \n"
     ]
    },
    {
     "name": "stderr",
     "output_type": "stream",
     "text": [
      " 66%|██████████████████████████████████████████████████████████████████████████████████████████████████████████████████████████████                                                                 | 132/200 [00:09<00:04, 13.83it/s]"
     ]
    },
    {
     "name": "stdout",
     "output_type": "stream",
     "text": [
      " epoch 129, avg loss:9.2460, \n",
      " epoch 130, avg loss:10.7374, \n",
      " epoch 131, avg loss:9.3798, \n"
     ]
    },
    {
     "name": "stderr",
     "output_type": "stream",
     "text": [
      "\r",
      " 67%|███████████████████████████████████████████████████████████████████████████████████████████████████████████████████████████████▉                                                               | 134/200 [00:09<00:04, 13.83it/s]"
     ]
    },
    {
     "name": "stdout",
     "output_type": "stream",
     "text": [
      " epoch 132, avg loss:8.6967, \n",
      " epoch 133, avg loss:9.0375, \n",
      " epoch 134, avg loss:11.0975, \n"
     ]
    },
    {
     "name": "stderr",
     "output_type": "stream",
     "text": [
      " 69%|███████████████████████████████████████████████████████████████████████████████████████████████████████████████████████████████████▊                                                           | 138/200 [00:10<00:04, 14.12it/s]"
     ]
    },
    {
     "name": "stdout",
     "output_type": "stream",
     "text": [
      " epoch 135, avg loss:10.3140, \n",
      " epoch 136, avg loss:10.2013, \n",
      " epoch 137, avg loss:9.5374, \n"
     ]
    },
    {
     "name": "stderr",
     "output_type": "stream",
     "text": [
      "\r",
      " 70%|█████████████████████████████████████████████████████████████████████████████████████████████████████████████████████████████████████▋                                                         | 140/200 [00:10<00:04, 14.00it/s]"
     ]
    },
    {
     "name": "stdout",
     "output_type": "stream",
     "text": [
      " epoch 138, avg loss:9.3758, \n",
      " epoch 139, avg loss:8.9822, \n",
      " epoch 140, avg loss:8.8276, \n"
     ]
    },
    {
     "name": "stderr",
     "output_type": "stream",
     "text": [
      " 72%|█████████████████████████████████████████████████████████████████████████████████████████████████████████████████████████████████████████▌                                                     | 144/200 [00:10<00:04, 13.93it/s]"
     ]
    },
    {
     "name": "stdout",
     "output_type": "stream",
     "text": [
      " epoch 141, avg loss:8.6949, \n",
      " epoch 142, avg loss:8.6952, \n",
      " epoch 143, avg loss:9.0222, \n"
     ]
    },
    {
     "name": "stderr",
     "output_type": "stream",
     "text": [
      "\r",
      " 73%|███████████████████████████████████████████████████████████████████████████████████████████████████████████████████████████████████████████▍                                                   | 146/200 [00:10<00:03, 14.02it/s]"
     ]
    },
    {
     "name": "stdout",
     "output_type": "stream",
     "text": [
      " epoch 144, avg loss:8.7179, \n",
      " epoch 145, avg loss:8.5894, \n",
      " epoch 146, avg loss:9.3991, \n"
     ]
    },
    {
     "name": "stderr",
     "output_type": "stream",
     "text": [
      " 75%|███████████████████████████████████████████████████████████████████████████████████████████████████████████████████████████████████████████████▎                                               | 150/200 [00:11<00:03, 13.84it/s]"
     ]
    },
    {
     "name": "stdout",
     "output_type": "stream",
     "text": [
      " epoch 147, avg loss:10.0459, \n",
      " epoch 148, avg loss:11.0121, \n",
      " epoch 149, avg loss:10.4991, \n"
     ]
    },
    {
     "name": "stderr",
     "output_type": "stream",
     "text": [
      "\r",
      " 76%|█████████████████████████████████████████████████████████████████████████████████████████████████████████████████████████████████████████████████▏                                             | 152/200 [00:11<00:03, 13.87it/s]"
     ]
    },
    {
     "name": "stdout",
     "output_type": "stream",
     "text": [
      " epoch 150, avg loss:9.3579, \n",
      " epoch 151, avg loss:8.7361, \n",
      " epoch 152, avg loss:8.6699, \n"
     ]
    },
    {
     "name": "stderr",
     "output_type": "stream",
     "text": [
      " 78%|████████████████████████████████████████████████████████████████████████████████████████████████████████████████████████████████████████████████████▉                                          | 156/200 [00:11<00:03, 13.47it/s]"
     ]
    },
    {
     "name": "stdout",
     "output_type": "stream",
     "text": [
      " epoch 153, avg loss:8.4603, \n",
      " epoch 154, avg loss:8.4500, \n",
      " epoch 155, avg loss:8.9261, \n"
     ]
    },
    {
     "name": "stderr",
     "output_type": "stream",
     "text": [
      "\r",
      " 79%|██████████████████████████████████████████████████████████████████████████████████████████████████████████████████████████████████████████████████████▉                                        | 158/200 [00:11<00:03, 13.47it/s]"
     ]
    },
    {
     "name": "stdout",
     "output_type": "stream",
     "text": [
      " epoch 156, avg loss:9.4640, \n",
      " epoch 157, avg loss:8.5354, \n",
      " epoch 158, avg loss:8.8763, \n"
     ]
    },
    {
     "name": "stderr",
     "output_type": "stream",
     "text": [
      " 81%|██████████████████████████████████████████████████████████████████████████████████████████████████████████████████████████████████████████████████████████▋                                    | 162/200 [00:11<00:02, 13.59it/s]"
     ]
    },
    {
     "name": "stdout",
     "output_type": "stream",
     "text": [
      " epoch 159, avg loss:8.8349, \n",
      " epoch 160, avg loss:8.5860, \n",
      " epoch 161, avg loss:9.1785, \n"
     ]
    },
    {
     "name": "stderr",
     "output_type": "stream",
     "text": [
      "\r",
      " 82%|████████████████████████████████████████████████████████████████████████████████████████████████████████████████████████████████████████████████████████████▌                                  | 164/200 [00:12<00:02, 13.08it/s]"
     ]
    },
    {
     "name": "stdout",
     "output_type": "stream",
     "text": [
      " epoch 162, avg loss:10.1194, \n",
      " epoch 163, avg loss:9.5067, \n",
      " epoch 164, avg loss:8.8859, \n"
     ]
    },
    {
     "name": "stderr",
     "output_type": "stream",
     "text": [
      " 84%|████████████████████████████████████████████████████████████████████████████████████████████████████████████████████████████████████████████████████████████████▍                              | 168/200 [00:12<00:02, 13.41it/s]"
     ]
    },
    {
     "name": "stdout",
     "output_type": "stream",
     "text": [
      " epoch 165, avg loss:8.8768, \n",
      " epoch 166, avg loss:8.4527, \n",
      " epoch 167, avg loss:9.4086, \n"
     ]
    },
    {
     "name": "stderr",
     "output_type": "stream",
     "text": [
      "\r",
      " 85%|██████████████████████████████████████████████████████████████████████████████████████████████████████████████████████████████████████████████████████████████████▎                            | 170/200 [00:12<00:02, 13.60it/s]"
     ]
    },
    {
     "name": "stdout",
     "output_type": "stream",
     "text": [
      " epoch 168, avg loss:8.4919, \n",
      " epoch 169, avg loss:8.2930, \n",
      " epoch 170, avg loss:9.2663, \n"
     ]
    },
    {
     "name": "stderr",
     "output_type": "stream",
     "text": [
      " 87%|██████████████████████████████████████████████████████████████████████████████████████████████████████████████████████████████████████████████████████████████████████▏                        | 174/200 [00:12<00:01, 13.78it/s]"
     ]
    },
    {
     "name": "stdout",
     "output_type": "stream",
     "text": [
      " epoch 171, avg loss:10.1312, \n",
      " epoch 172, avg loss:8.6187, \n",
      " epoch 173, avg loss:8.8371, \n"
     ]
    },
    {
     "name": "stderr",
     "output_type": "stream",
     "text": [
      "\r",
      " 88%|████████████████████████████████████████████████████████████████████████████████████████████████████████████████████████████████████████████████████████████████████████                       | 176/200 [00:12<00:01, 13.82it/s]"
     ]
    },
    {
     "name": "stdout",
     "output_type": "stream",
     "text": [
      " epoch 174, avg loss:9.3333, \n",
      " epoch 175, avg loss:8.3742, \n",
      " epoch 176, avg loss:8.3680, \n"
     ]
    },
    {
     "name": "stderr",
     "output_type": "stream",
     "text": [
      " 90%|███████████████████████████████████████████████████████████████████████████████████████████████████████████████████████████████████████████████████████████████████████████▉                   | 180/200 [00:13<00:01, 13.93it/s]"
     ]
    },
    {
     "name": "stdout",
     "output_type": "stream",
     "text": [
      " epoch 177, avg loss:8.9945, \n",
      " epoch 178, avg loss:8.7974, \n",
      " epoch 179, avg loss:8.8790, \n"
     ]
    },
    {
     "name": "stderr",
     "output_type": "stream",
     "text": [
      "\r",
      " 91%|█████████████████████████████████████████████████████████████████████████████████████████████████████████████████████████████████████████████████████████████████████████████▊                 | 182/200 [00:13<00:01, 14.02it/s]"
     ]
    },
    {
     "name": "stdout",
     "output_type": "stream",
     "text": [
      " epoch 180, avg loss:8.7491, \n",
      " epoch 181, avg loss:8.5458, \n",
      " epoch 182, avg loss:8.6048, \n"
     ]
    },
    {
     "name": "stderr",
     "output_type": "stream",
     "text": [
      " 93%|█████████████████████████████████████████████████████████████████████████████████████████████████████████████████████████████████████████████████████████████████████████████████▋             | 186/200 [00:13<00:01, 13.87it/s]"
     ]
    },
    {
     "name": "stdout",
     "output_type": "stream",
     "text": [
      " epoch 183, avg loss:8.8514, \n",
      " epoch 184, avg loss:8.5877, \n",
      " epoch 185, avg loss:8.8325, \n"
     ]
    },
    {
     "name": "stderr",
     "output_type": "stream",
     "text": [
      "\r",
      " 94%|███████████████████████████████████████████████████████████████████████████████████████████████████████████████████████████████████████████████████████████████████████████████████▌           | 188/200 [00:13<00:00, 13.97it/s]"
     ]
    },
    {
     "name": "stdout",
     "output_type": "stream",
     "text": [
      " epoch 186, avg loss:9.1352, \n",
      " epoch 187, avg loss:9.3230, \n",
      " epoch 188, avg loss:8.5869, \n"
     ]
    },
    {
     "name": "stderr",
     "output_type": "stream",
     "text": [
      " 96%|███████████████████████████████████████████████████████████████████████████████████████████████████████████████████████████████████████████████████████████████████████████████████████▎       | 192/200 [00:14<00:00, 13.58it/s]"
     ]
    },
    {
     "name": "stdout",
     "output_type": "stream",
     "text": [
      " epoch 189, avg loss:8.8711, \n",
      " epoch 190, avg loss:8.1817, \n",
      " epoch 191, avg loss:8.6247, \n"
     ]
    },
    {
     "name": "stderr",
     "output_type": "stream",
     "text": [
      "\r",
      " 97%|█████████████████████████████████████████████████████████████████████████████████████████████████████████████████████████████████████████████████████████████████████████████████████████▎     | 194/200 [00:14<00:00, 13.17it/s]"
     ]
    },
    {
     "name": "stdout",
     "output_type": "stream",
     "text": [
      " epoch 192, avg loss:8.6290, \n",
      " epoch 193, avg loss:8.5247, \n",
      " epoch 194, avg loss:8.2779, \n"
     ]
    },
    {
     "name": "stderr",
     "output_type": "stream",
     "text": [
      " 99%|█████████████████████████████████████████████████████████████████████████████████████████████████████████████████████████████████████████████████████████████████████████████████████████████  | 198/200 [00:14<00:00, 13.44it/s]"
     ]
    },
    {
     "name": "stdout",
     "output_type": "stream",
     "text": [
      " epoch 195, avg loss:9.0443, \n",
      " epoch 196, avg loss:8.7734, \n",
      " epoch 197, avg loss:8.1586, \n"
     ]
    },
    {
     "name": "stderr",
     "output_type": "stream",
     "text": [
      "100%|███████████████████████████████████████████████████████████████████████████████████████████████████████████████████████████████████████████████████████████████████████████████████████████████| 200/200 [00:14<00:00, 13.58it/s]"
     ]
    },
    {
     "name": "stdout",
     "output_type": "stream",
     "text": [
      " epoch 198, avg loss:8.2897, \n",
      " epoch 199, avg loss:8.7383, \n"
     ]
    },
    {
     "name": "stderr",
     "output_type": "stream",
     "text": [
      "\n"
     ]
    }
   ],
   "source": [
    "params = {'lr': 1e-3, 'latent_dim': 32}\n",
    "\n",
    "model = mlp(dim=data_dim, latent_dim=params['latent_dim'], std_data=1).cuda()\n",
    "opt = torch.optim.Adam(model.parameters(), lr=params['lr'])\n",
    "max_t = 50\n",
    "min_t = 0.001\n",
    "total_epoch = 200\n",
    "pfgmpp = True\n",
    "D = 100\n",
    "N = data_dim\n",
    "\n",
    "\n",
    "for epoch in tqdm(range(total_epoch)):\n",
    "    loss_sum = 0.\n",
    "    cnt = 0.\n",
    "\n",
    "    for x, y in train_loader:\n",
    "        x, y = x.cuda(), y.cuda()\n",
    "        var_data = std ** 2 + mean_scale ** 2\n",
    "        std_data = np.sqrt(var_data)\n",
    "        # normalize the data such that it's std is 1\n",
    "        x /= std_data\n",
    "        \n",
    "        \n",
    "        std_data = 1\n",
    "        opt.zero_grad()\n",
    "        \n",
    "        rnd_normal = torch.randn((x.shape[0], 1), device=x.device)\n",
    "        t = (rnd_normal * 1.2 - 1.2).exp()\n",
    "        \n",
    "\n",
    "        r = t * np.sqrt(D).astype(np.float64) # r=sigma\\sqrt{D} formula\n",
    "\n",
    "        # sample noise from perturbation kernel p_r = #\n",
    "        # Sampling form inverse-beta distribution\n",
    "        samples_norm = np.random.beta(a=N / 2., b=D / 2.,\n",
    "                             size=x.shape[0]).astype(np.double)\n",
    "        inverse_beta = samples_norm / (1 - samples_norm +1e-8)\n",
    "        inverse_beta = torch.from_numpy(inverse_beta).to(x.device).double()\n",
    "        # Sampling from p_r(R) by change-of-variable (c.f. Appendix B)\n",
    "        samples_norm = (r.squeeze() * torch.sqrt(inverse_beta +1e-8)).view(len(samples_norm), -1)\n",
    "        # Uniformly sample the angle component\n",
    "        gaussian = torch.randn(x.shape[0], N).to(samples_norm.device)\n",
    "        unit_gaussian = gaussian / torch.norm(gaussian, p=2, dim=1, keepdim=True)\n",
    "        # Construct the perturbation \n",
    "        x_hat = x + (unit_gaussian * samples_norm).float()\n",
    "        \n",
    "        # preconditions\n",
    "        c_in = 1/(std_data ** 2 + t ** 2).sqrt()\n",
    "        c_out = t * std_data/(std_data ** 2 + t ** 2).sqrt()\n",
    "        c_skip = std_data ** 2/(std_data ** 2 + t ** 2)\n",
    "        \n",
    "        D_x = model(x_hat * c_in, t)\n",
    "\n",
    "        weight = (t**2 + std_data ** 2) / (t*std_data) ** 2\n",
    "        \n",
    "        loss = torch.sum(weight * ((D_x - x) ** 2), dim=1).mean()\n",
    "        loss.backward()\n",
    "        opt.step()\n",
    "\n",
    "        loss_sum += loss.item()\n",
    "        cnt += len(x)\n",
    "\n",
    "    print(f\" epoch {epoch}, avg loss:{loss_sum/cnt:.4f}, \")\n",
    "    "
   ]
  },
  {
   "cell_type": "markdown",
   "id": "3cc8ed61",
   "metadata": {},
   "source": [
    "## Sampling"
   ]
  },
  {
   "cell_type": "code",
   "execution_count": 47,
   "id": "406291f0",
   "metadata": {},
   "outputs": [
    {
     "name": "stderr",
     "output_type": "stream",
     "text": [
      "50it [00:00, 588.86it/s]\n"
     ]
    }
   ],
   "source": [
    "np.random.seed(123)\n",
    "torch.manual_seed(123)\n",
    "\n",
    "min_t = 0.001\n",
    "num_steps = 50\n",
    "sample_size = 2000\n",
    "S_churn = 0\n",
    "S_min = 0.01\n",
    "S_max = 5\n",
    "S_noise = 1.\n",
    "\n",
    "rho = 7\n",
    "latents = torch.randn(sample_size, data_dim)\n",
    "\n",
    "# Time step discretization.\n",
    "step_indices = torch.arange(num_steps, dtype=torch.float, device=latents.device)\n",
    "t_steps = (max_t ** (1 / rho) + step_indices / (num_steps - 1) * (min_t ** (1 / rho) - max_t ** (1 / rho))) ** rho\n",
    "t_steps = torch.cat([torch.as_tensor(t_steps), torch.zeros_like(t_steps[:1])]).cuda().float() # t_N = 0\n",
    "\n",
    "# Main sampling loop.\n",
    "std_data = 1\n",
    "\n",
    "if pfgmpp:\n",
    "    r_max = t_steps[0] * np.sqrt(D).astype(np.float64) # r=sigma\\sqrt{D} formula\n",
    "\n",
    "    # = sample noise from perturbation kernel p_r = #\n",
    "    # Sampling form inverse-beta distribution\n",
    "    samples_norm = np.random.beta(a=N / 2., b=D / 2.,\n",
    "                         size=sample_size).astype(np.double)\n",
    "    inverse_beta = samples_norm / (1 - samples_norm +1e-8)\n",
    "    inverse_beta = torch.from_numpy(inverse_beta).to(x.device).double()\n",
    "    # Sampling from p_r(R) by change-of-variable (c.f. Appendix B)\n",
    "    samples_norm = (r_max.squeeze() * torch.sqrt(inverse_beta +1e-8)).view(len(samples_norm), -1)\n",
    "    # Uniformly sample the angle component\n",
    "    gaussian = torch.randn(sample_size, N).to(samples_norm.device)\n",
    "    unit_gaussian = gaussian / torch.norm(gaussian, p=2, dim=1, keepdim=True)\n",
    "    # Construct the perturbation \n",
    "    x_next = (unit_gaussian * samples_norm).float()\n",
    "else:\n",
    "    x_next = latents.cuda() * t_steps[0]\n",
    "\n",
    "#collect_noisy = np.zeros((num_steps, len(idx_out), 2))\n",
    "\n",
    "for i, (t_cur, t_next) in tqdm(enumerate(zip(t_steps[:-1], t_steps[1:]))):\n",
    "    #collect_noisy[i, :, :] = x_next[idx_out, :].detach().cpu().numpy()\n",
    "    x_cur = x_next\n",
    "\n",
    "    # Increase noise temporarily.\n",
    "    gamma = S_churn / num_steps if S_min <= t_cur <= S_max else 0\n",
    "    t_hat = t_cur + gamma * t_cur\n",
    "    x_hat = x_cur + (t_hat ** 2 - t_cur ** 2).sqrt() * S_noise * torch.randn_like(x_cur)\n",
    "\n",
    "    # Euler step.\n",
    "    # preconditions\n",
    "    c_in = 1/(std_data ** 2 + t_hat ** 2).sqrt()\n",
    "    denoised = model(x_hat * c_in, t_hat)\n",
    "    d_cur = (x_hat - denoised) / t_hat\n",
    "    x_next = x_hat + (t_next - t_hat) * d_cur\n",
    "\n",
    "    # Apply 2nd order correction.\n",
    "    if i < num_steps - 1:\n",
    "        # preconditions\n",
    "        c_in = 1/(std_data ** 2 + t_next ** 2).sqrt()\n",
    "        denoised = model(x_next * c_in, t_next)\n",
    "        d_prime = (x_next - denoised) / t_next\n",
    "        x_next = x_hat + (t_next - t_hat) * (0.5 * d_cur + 0.5 * d_prime)\n",
    "    \n",
    "\n"
   ]
  },
  {
   "cell_type": "code",
   "execution_count": 48,
   "id": "cc305a59",
   "metadata": {},
   "outputs": [
    {
     "name": "stderr",
     "output_type": "stream",
     "text": [
      "/tmp/ipykernel_3183780/3039846937.py:19: MatplotlibDeprecationWarning: savefig() got unexpected keyword argument \"bbox\" which is no longer supported as of 3.3 and will become an error in 3.6\n",
      "  plt.savefig(title +'.png', bbox='tight', dpi=300)\n"
     ]
    },
    {
     "data": {
      "image/png": "[encoded data removed]",
      "text/plain": [
       "<Figure size 432x288 with 1 Axes>"
      ]
     },
     "metadata": {
      "needs_background": "light"
     },
     "output_type": "display_data"
    },
    {
     "name": "stderr",
     "output_type": "stream",
     "text": [
      "/tmp/ipykernel_3183780/3039846937.py:41: MatplotlibDeprecationWarning: savefig() got unexpected keyword argument \"bbox\" which is no longer supported as of 3.3 and will become an error in 3.6\n",
      "  plt.savefig(title +'.png', bbox='tight', dpi=300)\n"
     ]
    },
    {
     "data": {
      "image/png": "[encoded data removed]",
      "text/plain": [
       "<Figure size 432x288 with 1 Axes>"
      ]
     },
     "metadata": {
      "needs_background": "light"
     },
     "output_type": "display_data"
    },
    {
     "data": {
      "text/plain": [
       "<Figure size 432x288 with 0 Axes>"
      ]
     },
     "metadata": {},
     "output_type": "display_data"
    }
   ],
   "source": [
    "var_data = std ** 2 + mean_scale ** 2\n",
    "std_data = np.sqrt(var_data)\n",
    "#std_data = torch.std(X.view(-1)).numpy()\n",
    "generated_X = x_next.detach().cpu().numpy() * std_data\n",
    "\n",
    "\n",
    "#plt.scatter(X[:, 0], X[:, 1], label='True data', alpha=0.5, color='orange')\n",
    "plt.scatter(generated_X[:, 0], generated_X[:, 1], label='Generated data', alpha=0.5)\n",
    "\n",
    "#plt.scatter(generated_X[idx_out, 0], generated_X[idx_out, 1], label='out')\n",
    "\n",
    "title = f'$D=\\infty$' if pfgmpp is False else f'D={D}'\n",
    "\n",
    "#title = 'True data'\n",
    "plt.title(title, fontsize=20)\n",
    "plt.xlabel('$x_0$', fontsize=15)\n",
    "plt.ylabel('$x_1$', fontsize=15)\n",
    "plt.legend()\n",
    "plt.savefig(title +'.png', bbox='tight', dpi=300)\n",
    "plt.show()\n",
    "plt.clf()\n",
    "\n",
    "var_data = std ** 2 + mean_scale ** 2\n",
    "std_data = np.sqrt(var_data)\n",
    "#std_data = torch.std(X.view(-1)).numpy()\n",
    "generated_X = x_next.detach().cpu().numpy() * std_data\n",
    "\n",
    "\n",
    "plt.scatter(X[:, 0], X[:, 1], label='True data', alpha=0.5, color='orange')\n",
    "#plt.scatter(generated_X[:, 0], generated_X[:, 1], label='Generated data', alpha=0.5)\n",
    "\n",
    "#plt.scatter(generated_X[idx_out, 0], generated_X[idx_out, 1], label='out')\n",
    "\n",
    "title = f'$D=\\infty$' if pfgmpp is False else f'D={D}'\n",
    "\n",
    "#title = 'True data'\n",
    "plt.title(title, fontsize=20)\n",
    "plt.xlabel('$x_0$', fontsize=15)\n",
    "plt.ylabel('$x_1$', fontsize=15)\n",
    "plt.legend()\n",
    "plt.savefig(title +'.png', bbox='tight', dpi=300)\n",
    "plt.show()\n",
    "plt.clf()"
   ]
  },
  {
   "cell_type": "code",
   "execution_count": 49,
   "id": "a6246cac",
   "metadata": {},
   "outputs": [
    {
     "name": "stdout",
     "output_type": "stream",
     "text": [
      "tensor(0.0586)\n"
     ]
    }
   ],
   "source": [
    "mmd = MMD_loss()\n",
    "m = mmd.forward(X, torch.from_numpy(generated_X))\n",
    "\n",
    "print(m)"
   ]
  },
  {
   "cell_type": "code",
   "execution_count": null,
   "id": "2ec33fe4",
   "metadata": {},
   "outputs": [],
   "source": []
  }
 ],
 "metadata": {
  "kernelspec": {
   "display_name": "Python 3 (ipykernel)",
   "language": "python",
   "name": "python3"
  },
  "language_info": {
   "codemirror_mode": {
    "name": "ipython",
    "version": 3
   },
   "file_extension": ".py",
   "mimetype": "text/x-python",
   "name": "python",
   "nbconvert_exporter": "python",
   "pygments_lexer": "ipython3",
   "version": "3.9.12"
  }
 },
 "nbformat": 4,
 "nbformat_minor": 5
}
